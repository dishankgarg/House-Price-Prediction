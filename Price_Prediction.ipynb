{
 "cells": [
  {
   "cell_type": "code",
   "execution_count": 1,
   "id": "a3733b1d",
   "metadata": {},
   "outputs": [],
   "source": [
    "import numpy as np\n",
    "import pandas as pd\n",
    "import seaborn as sns\n",
    "import matplotlib.pyplot as plt\n",
    "\n",
    "from sklearn.model_selection import train_test_split\n",
    "from sklearn.linear_model import LinearRegression,Lasso,Ridge\n",
    "from sklearn.preprocessing import OneHotEncoder,StandardScaler\n",
    "from sklearn.compose import make_column_transformer\n",
    "from sklearn.pipeline import make_pipeline\n",
    "from sklearn.metrics import r2_score"
   ]
  },
  {
   "cell_type": "code",
   "execution_count": 15,
   "id": "cd06fbe0",
   "metadata": {},
   "outputs": [],
   "source": [
    "data=pd.read_csv(\"Bengaluru_House_Data_Cleaned_no_index.csv\")"
   ]
  },
  {
   "cell_type": "code",
   "execution_count": 16,
   "id": "2bbec2cd",
   "metadata": {},
   "outputs": [],
   "source": [
    "#Splitting data into feature and response matrix\n",
    "#X is feature matrix \n",
    "#y is response matrix\n",
    "\n",
    "X=data.drop(columns=[\"price\"])\n",
    "y=data[\"price\"]"
   ]
  },
  {
   "cell_type": "code",
   "execution_count": 17,
   "id": "943090b3",
   "metadata": {},
   "outputs": [
    {
     "data": {
      "text/html": [
       "<div>\n",
       "<style scoped>\n",
       "    .dataframe tbody tr th:only-of-type {\n",
       "        vertical-align: middle;\n",
       "    }\n",
       "\n",
       "    .dataframe tbody tr th {\n",
       "        vertical-align: top;\n",
       "    }\n",
       "\n",
       "    .dataframe thead th {\n",
       "        text-align: right;\n",
       "    }\n",
       "</style>\n",
       "<table border=\"1\" class=\"dataframe\">\n",
       "  <thead>\n",
       "    <tr style=\"text-align: right;\">\n",
       "      <th></th>\n",
       "      <th>total_sqft</th>\n",
       "      <th>bath</th>\n",
       "      <th>Availability</th>\n",
       "      <th>BHK</th>\n",
       "      <th>Locations</th>\n",
       "    </tr>\n",
       "  </thead>\n",
       "  <tbody>\n",
       "    <tr>\n",
       "      <th>0</th>\n",
       "      <td>2850.0</td>\n",
       "      <td>4</td>\n",
       "      <td>Not Ready To Move</td>\n",
       "      <td>4</td>\n",
       "      <td>1st Block Jayanagar</td>\n",
       "    </tr>\n",
       "    <tr>\n",
       "      <th>1</th>\n",
       "      <td>1630.0</td>\n",
       "      <td>3</td>\n",
       "      <td>Not Ready To Move</td>\n",
       "      <td>3</td>\n",
       "      <td>1st Block Jayanagar</td>\n",
       "    </tr>\n",
       "    <tr>\n",
       "      <th>2</th>\n",
       "      <td>1875.0</td>\n",
       "      <td>2</td>\n",
       "      <td>Ready To Move</td>\n",
       "      <td>3</td>\n",
       "      <td>1st Block Jayanagar</td>\n",
       "    </tr>\n",
       "    <tr>\n",
       "      <th>3</th>\n",
       "      <td>1200.0</td>\n",
       "      <td>2</td>\n",
       "      <td>Not Ready To Move</td>\n",
       "      <td>3</td>\n",
       "      <td>1st Block Jayanagar</td>\n",
       "    </tr>\n",
       "    <tr>\n",
       "      <th>4</th>\n",
       "      <td>1235.0</td>\n",
       "      <td>2</td>\n",
       "      <td>Not Ready To Move</td>\n",
       "      <td>2</td>\n",
       "      <td>1st Block Jayanagar</td>\n",
       "    </tr>\n",
       "    <tr>\n",
       "      <th>...</th>\n",
       "      <td>...</td>\n",
       "      <td>...</td>\n",
       "      <td>...</td>\n",
       "      <td>...</td>\n",
       "      <td>...</td>\n",
       "    </tr>\n",
       "    <tr>\n",
       "      <th>9882</th>\n",
       "      <td>1256.0</td>\n",
       "      <td>2</td>\n",
       "      <td>Ready To Move</td>\n",
       "      <td>2</td>\n",
       "      <td>other</td>\n",
       "    </tr>\n",
       "    <tr>\n",
       "      <th>9883</th>\n",
       "      <td>1353.0</td>\n",
       "      <td>2</td>\n",
       "      <td>Ready To Move</td>\n",
       "      <td>2</td>\n",
       "      <td>other</td>\n",
       "    </tr>\n",
       "    <tr>\n",
       "      <th>9884</th>\n",
       "      <td>812.0</td>\n",
       "      <td>1</td>\n",
       "      <td>Not Ready To Move</td>\n",
       "      <td>1</td>\n",
       "      <td>other</td>\n",
       "    </tr>\n",
       "    <tr>\n",
       "      <th>9885</th>\n",
       "      <td>1440.0</td>\n",
       "      <td>2</td>\n",
       "      <td>Not Ready To Move</td>\n",
       "      <td>3</td>\n",
       "      <td>other</td>\n",
       "    </tr>\n",
       "    <tr>\n",
       "      <th>9886</th>\n",
       "      <td>1075.0</td>\n",
       "      <td>2</td>\n",
       "      <td>Ready To Move</td>\n",
       "      <td>2</td>\n",
       "      <td>other</td>\n",
       "    </tr>\n",
       "  </tbody>\n",
       "</table>\n",
       "<p>9887 rows × 5 columns</p>\n",
       "</div>"
      ],
      "text/plain": [
       "      total_sqft  bath       Availability  BHK            Locations\n",
       "0         2850.0     4  Not Ready To Move    4  1st Block Jayanagar\n",
       "1         1630.0     3  Not Ready To Move    3  1st Block Jayanagar\n",
       "2         1875.0     2      Ready To Move    3  1st Block Jayanagar\n",
       "3         1200.0     2  Not Ready To Move    3  1st Block Jayanagar\n",
       "4         1235.0     2  Not Ready To Move    2  1st Block Jayanagar\n",
       "...          ...   ...                ...  ...                  ...\n",
       "9882      1256.0     2      Ready To Move    2                other\n",
       "9883      1353.0     2      Ready To Move    2                other\n",
       "9884       812.0     1  Not Ready To Move    1                other\n",
       "9885      1440.0     2  Not Ready To Move    3                other\n",
       "9886      1075.0     2      Ready To Move    2                other\n",
       "\n",
       "[9887 rows x 5 columns]"
      ]
     },
     "execution_count": 17,
     "metadata": {},
     "output_type": "execute_result"
    }
   ],
   "source": [
    "X"
   ]
  },
  {
   "cell_type": "code",
   "execution_count": 18,
   "id": "661c6968",
   "metadata": {},
   "outputs": [
    {
     "data": {
      "text/plain": [
       "0       428.00\n",
       "1       194.00\n",
       "2       235.00\n",
       "3       130.00\n",
       "4       148.00\n",
       "         ...  \n",
       "9882     65.00\n",
       "9883    110.00\n",
       "9884     26.00\n",
       "9885     63.93\n",
       "9886     48.00\n",
       "Name: price, Length: 9887, dtype: float64"
      ]
     },
     "execution_count": 18,
     "metadata": {},
     "output_type": "execute_result"
    }
   ],
   "source": [
    "y"
   ]
  },
  {
   "cell_type": "code",
   "execution_count": 20,
   "id": "02eb01fb",
   "metadata": {},
   "outputs": [
    {
     "name": "stdout",
     "output_type": "stream",
     "text": [
      "(1978, 5)\n",
      "(7909, 5)\n"
     ]
    }
   ],
   "source": [
    "#Giving size to feature and response matrix. Ie we want 20% of values to be tested upon by 80% values used to train model\n",
    "\n",
    "X_train,X_test,y_train,y_test=train_test_split(X,y,test_size=0.2,random_state=0)\n",
    "print(X_test.shape)\n",
    "print(X_train.shape)"
   ]
  },
  {
   "cell_type": "code",
   "execution_count": 37,
   "id": "e13da71a",
   "metadata": {},
   "outputs": [
    {
     "data": {
      "text/plain": [
       "array([[1.000e+00, 0.000e+00, 1.000e+00, ..., 2.850e+03, 4.000e+00,\n",
       "        4.000e+00],\n",
       "       [1.000e+00, 0.000e+00, 1.000e+00, ..., 1.630e+03, 3.000e+00,\n",
       "        3.000e+00],\n",
       "       [0.000e+00, 1.000e+00, 1.000e+00, ..., 1.875e+03, 2.000e+00,\n",
       "        3.000e+00],\n",
       "       ...,\n",
       "       [1.000e+00, 0.000e+00, 0.000e+00, ..., 8.120e+02, 1.000e+00,\n",
       "        1.000e+00],\n",
       "       [1.000e+00, 0.000e+00, 0.000e+00, ..., 1.440e+03, 2.000e+00,\n",
       "        3.000e+00],\n",
       "       [0.000e+00, 1.000e+00, 0.000e+00, ..., 1.075e+03, 2.000e+00,\n",
       "        2.000e+00]])"
      ]
     },
     "execution_count": 37,
     "metadata": {},
     "output_type": "execute_result"
    }
   ],
   "source": [
    "#OneHotEncoder is a dummy encoding system which binarizes the categorical data in numpy array of numerical data\n",
    "#IE Sex: Male/Female is converted to [0,1] or[1,0] if you are Female and Male respectively\n",
    "\n",
    "#make_colunm_transformer is used to apply preprocessing steps like OneHotEncoder only on certain colunms\n",
    "#while passing by the rest of them\n",
    "\n",
    "column_trans=make_column_transformer((OneHotEncoder(sparse=False,),\n",
    "                                      [\"Availability\",\"Locations\"]),remainder='passthrough')\n",
    "\n",
    "column_trans.fit_transform(X)"
   ]
  },
  {
   "cell_type": "code",
   "execution_count": 38,
   "id": "0fc0023b",
   "metadata": {},
   "outputs": [],
   "source": [
    "#StandardScaler removes the mean and scales each feature/variable to unit variance. \n",
    "#This operation is performed feature-wise in an independent way. \n",
    "scaler=StandardScaler()"
   ]
  },
  {
   "cell_type": "code",
   "execution_count": null,
   "id": "956a55e7",
   "metadata": {},
   "outputs": [],
   "source": [
    "#THis concludes setting basic stuff now we will pass through pipelines for different models"
   ]
  },
  {
   "cell_type": "code",
   "execution_count": null,
   "id": "37df29f8",
   "metadata": {},
   "outputs": [],
   "source": []
  },
  {
   "cell_type": "markdown",
   "id": "83a4bed0",
   "metadata": {},
   "source": [
    "USING LINEAR REGRESSION MODEL APPROACH"
   ]
  },
  {
   "cell_type": "code",
   "execution_count": 39,
   "id": "3b07bad3",
   "metadata": {},
   "outputs": [],
   "source": [
    "#Establishing model which is Linear regression in this case\n",
    "lr=LinearRegression(normalize=True)"
   ]
  },
  {
   "cell_type": "code",
   "execution_count": 40,
   "id": "090f1756",
   "metadata": {},
   "outputs": [
    {
     "name": "stderr",
     "output_type": "stream",
     "text": [
      "C:\\ProgramData\\Anaconda3\\lib\\site-packages\\sklearn\\linear_model\\_base.py:141: FutureWarning: 'normalize' was deprecated in version 1.0 and will be removed in 1.2.\n",
      "If you wish to scale the data, use Pipeline with a StandardScaler in a preprocessing stage. To reproduce the previous behavior:\n",
      "\n",
      "from sklearn.pipeline import make_pipeline\n",
      "\n",
      "model = make_pipeline(StandardScaler(with_mean=False), LinearRegression())\n",
      "\n",
      "If you wish to pass a sample_weight parameter, you need to pass it as a fit parameter to each step of the pipeline as follows:\n",
      "\n",
      "kwargs = {s[0] + '__sample_weight': sample_weight for s in model.steps}\n",
      "model.fit(X, y, **kwargs)\n",
      "\n",
      "\n",
      "  warnings.warn(\n"
     ]
    },
    {
     "data": {
      "text/plain": [
       "Pipeline(steps=[('columntransformer',\n",
       "                 ColumnTransformer(remainder='passthrough',\n",
       "                                   transformers=[('onehotencoder',\n",
       "                                                  OneHotEncoder(sparse=False),\n",
       "                                                  ['Availability',\n",
       "                                                   'Locations'])])),\n",
       "                ('standardscaler', StandardScaler()),\n",
       "                ('linearregression', LinearRegression(normalize=True))])"
      ]
     },
     "execution_count": 40,
     "metadata": {},
     "output_type": "execute_result"
    }
   ],
   "source": [
    "#Making Pipeline-A structured manner of following steps\n",
    "\n",
    "#So in this case first the data will be preproscessed and categorical converts into numerical\n",
    "#Then it is passed through Scaler where the data is scaled\n",
    "#And now lastly it is passed through our ML model of linear regression\n",
    "\n",
    "#This whole proscess happens in a pipe as a sequential manner\n",
    "\n",
    "pipe=make_pipeline(column_trans,scaler,lr)\n",
    "\n",
    "#Fitting training data into pipe as compared to the simpler fitting data to model\n",
    "pipe.fit(X_train,y_train)"
   ]
  },
  {
   "cell_type": "code",
   "execution_count": 41,
   "id": "1dbad6eb",
   "metadata": {},
   "outputs": [
    {
     "data": {
      "text/plain": [
       "0.8556147128434505"
      ]
     },
     "execution_count": 41,
     "metadata": {},
     "output_type": "execute_result"
    }
   ],
   "source": [
    "y_pred_lr=pipe.predict(X_test)\n",
    "\n",
    "#Checking accuracy by finding r2score\n",
    "r2_score(y_test,y_pred_lr)"
   ]
  },
  {
   "cell_type": "code",
   "execution_count": null,
   "id": "72d6c3ff",
   "metadata": {},
   "outputs": [],
   "source": [
    "#We see 85.5% accuracy in predictions"
   ]
  },
  {
   "cell_type": "code",
   "execution_count": null,
   "id": "3f407fef",
   "metadata": {},
   "outputs": [],
   "source": []
  },
  {
   "cell_type": "markdown",
   "id": "c972dbc1",
   "metadata": {},
   "source": [
    "USING LASSO MODEL APPROACH"
   ]
  },
  {
   "cell_type": "code",
   "execution_count": 43,
   "id": "83b08e3d",
   "metadata": {},
   "outputs": [
    {
     "data": {
      "text/plain": [
       "Pipeline(steps=[('columntransformer',\n",
       "                 ColumnTransformer(remainder='passthrough',\n",
       "                                   transformers=[('onehotencoder',\n",
       "                                                  OneHotEncoder(sparse=False),\n",
       "                                                  ['Availability',\n",
       "                                                   'Locations'])])),\n",
       "                ('standardscaler', StandardScaler()), ('lasso', Lasso())])"
      ]
     },
     "execution_count": 43,
     "metadata": {},
     "output_type": "execute_result"
    }
   ],
   "source": [
    "lasso=Lasso()\n",
    "pipe1=make_pipeline(column_trans,scaler,lasso)\n",
    "\n",
    "pipe1.fit(X_train,y_train)"
   ]
  },
  {
   "cell_type": "code",
   "execution_count": 44,
   "id": "79731458",
   "metadata": {},
   "outputs": [
    {
     "data": {
      "text/plain": [
       "0.8454328482610449"
      ]
     },
     "execution_count": 44,
     "metadata": {},
     "output_type": "execute_result"
    }
   ],
   "source": [
    "y_pred_lasso=pipe1.predict(X_test)\n",
    "\n",
    "#Checking accuracy by finding r2score\n",
    "r2_score(y_test,y_pred_lasso)"
   ]
  },
  {
   "cell_type": "markdown",
   "id": "42609ec7",
   "metadata": {},
   "source": [
    "USING RIDGE APPROACH"
   ]
  },
  {
   "cell_type": "code",
   "execution_count": 45,
   "id": "bce25ca3",
   "metadata": {},
   "outputs": [
    {
     "data": {
      "text/plain": [
       "Pipeline(steps=[('columntransformer',\n",
       "                 ColumnTransformer(remainder='passthrough',\n",
       "                                   transformers=[('onehotencoder',\n",
       "                                                  OneHotEncoder(sparse=False),\n",
       "                                                  ['Availability',\n",
       "                                                   'Locations'])])),\n",
       "                ('standardscaler', StandardScaler()), ('ridge', Ridge())])"
      ]
     },
     "execution_count": 45,
     "metadata": {},
     "output_type": "execute_result"
    }
   ],
   "source": [
    "ridge=Ridge()\n",
    "pipe2=make_pipeline(column_trans,scaler,ridge)\n",
    "\n",
    "pipe2.fit(X_train,y_train)"
   ]
  },
  {
   "cell_type": "code",
   "execution_count": 46,
   "id": "189269dd",
   "metadata": {},
   "outputs": [
    {
     "data": {
      "text/plain": [
       "0.8571773918265543"
      ]
     },
     "execution_count": 46,
     "metadata": {},
     "output_type": "execute_result"
    }
   ],
   "source": [
    "y_pred_ridge=pipe2.predict(X_test)\n",
    "\n",
    "#Checking accuracy by finding r2score\n",
    "r2_score(y_test,y_pred_ridge)"
   ]
  },
  {
   "cell_type": "code",
   "execution_count": null,
   "id": "57c2c52b",
   "metadata": {},
   "outputs": [],
   "source": []
  },
  {
   "cell_type": "code",
   "execution_count": 48,
   "id": "ff03e815",
   "metadata": {},
   "outputs": [],
   "source": [
    "#We see that the RIDGE approach gives us best accuracy\n",
    "#So we will pickle the ridge approach and store it\n",
    "\n",
    "import pickle"
   ]
  },
  {
   "cell_type": "code",
   "execution_count": 49,
   "id": "994916f4",
   "metadata": {},
   "outputs": [],
   "source": [
    "pickle.dump(pipe2, open(\"Ridge_Model.pkl\",\"wb\"))"
   ]
  },
  {
   "cell_type": "code",
   "execution_count": null,
   "id": "2eeb52c9",
   "metadata": {},
   "outputs": [],
   "source": [
    "#Testing whether Pipeline predicts correctly"
   ]
  },
  {
   "cell_type": "code",
   "execution_count": 52,
   "id": "fac92864",
   "metadata": {},
   "outputs": [
    {
     "data": {
      "text/html": [
       "<div>\n",
       "<style scoped>\n",
       "    .dataframe tbody tr th:only-of-type {\n",
       "        vertical-align: middle;\n",
       "    }\n",
       "\n",
       "    .dataframe tbody tr th {\n",
       "        vertical-align: top;\n",
       "    }\n",
       "\n",
       "    .dataframe thead th {\n",
       "        text-align: right;\n",
       "    }\n",
       "</style>\n",
       "<table border=\"1\" class=\"dataframe\">\n",
       "  <thead>\n",
       "    <tr style=\"text-align: right;\">\n",
       "      <th></th>\n",
       "      <th>Locations</th>\n",
       "      <th>bath</th>\n",
       "      <th>BHK</th>\n",
       "      <th>Availability</th>\n",
       "      <th>total_sqft</th>\n",
       "    </tr>\n",
       "  </thead>\n",
       "  <tbody>\n",
       "    <tr>\n",
       "      <th>0</th>\n",
       "      <td>5th Phase JP Nagar</td>\n",
       "      <td>3</td>\n",
       "      <td>4</td>\n",
       "      <td>Ready To Move</td>\n",
       "      <td>2000</td>\n",
       "    </tr>\n",
       "  </tbody>\n",
       "</table>\n",
       "</div>"
      ],
      "text/plain": [
       "            Locations bath BHK   Availability total_sqft\n",
       "0  5th Phase JP Nagar    3   4  Ready To Move       2000"
      ]
     },
     "execution_count": 52,
     "metadata": {},
     "output_type": "execute_result"
    }
   ],
   "source": [
    "input=pd.DataFrame([[\"5th Phase JP Nagar\",\"3\",\"4\",\"Ready To Move\",\"2000\"]],\n",
    "                       columns=['Locations','bath','BHK','Availability','total_sqft'])\n",
    "input"
   ]
  },
  {
   "cell_type": "code",
   "execution_count": 55,
   "id": "7ab4b934",
   "metadata": {},
   "outputs": [
    {
     "data": {
      "text/plain": [
       "119.9778190644226"
      ]
     },
     "execution_count": 55,
     "metadata": {},
     "output_type": "execute_result"
    }
   ],
   "source": [
    "prediction=pipe.predict(input)[0]\n",
    "prediction"
   ]
  },
  {
   "cell_type": "code",
   "execution_count": 57,
   "id": "80f15154",
   "metadata": {},
   "outputs": [
    {
     "name": "stdout",
     "output_type": "stream",
     "text": [
      "<class 'pandas.core.frame.DataFrame'>\n",
      "RangeIndex: 9887 entries, 0 to 9886\n",
      "Data columns (total 6 columns):\n",
      " #   Column        Non-Null Count  Dtype  \n",
      "---  ------        --------------  -----  \n",
      " 0   total_sqft    9887 non-null   float64\n",
      " 1   bath          9887 non-null   int64  \n",
      " 2   price         9887 non-null   float64\n",
      " 3   Availability  9887 non-null   object \n",
      " 4   BHK           9887 non-null   int64  \n",
      " 5   Locations     9887 non-null   object \n",
      "dtypes: float64(2), int64(2), object(2)\n",
      "memory usage: 463.6+ KB\n"
     ]
    }
   ],
   "source": [
    "data.info()"
   ]
  },
  {
   "cell_type": "code",
   "execution_count": 60,
   "id": "89dd623d",
   "metadata": {},
   "outputs": [
    {
     "ename": "TypeError",
     "evalue": "'DataFrame' object is not callable",
     "output_type": "error",
     "traceback": [
      "\u001b[1;31m---------------------------------------------------------------------------\u001b[0m",
      "\u001b[1;31mTypeError\u001b[0m                                 Traceback (most recent call last)",
      "Input \u001b[1;32mIn [60]\u001b[0m, in \u001b[0;36m<cell line: 1>\u001b[1;34m()\u001b[0m\n\u001b[1;32m----> 1\u001b[0m \u001b[43mdata\u001b[49m\u001b[43m(\u001b[49m\u001b[43mdata\u001b[49m\u001b[43m[\u001b[49m\u001b[38;5;124;43m\"\u001b[39;49m\u001b[38;5;124;43mLocations\u001b[39;49m\u001b[38;5;124;43m\"\u001b[39;49m\u001b[43m]\u001b[49m\u001b[38;5;241;43m==\u001b[39;49m\u001b[38;5;124;43m\"\u001b[39;49m\u001b[38;5;124;43m5th Phase JP Nagar\u001b[39;49m\u001b[38;5;124;43m\"\u001b[39;49m\u001b[43m)\u001b[49m\n",
      "\u001b[1;31mTypeError\u001b[0m: 'DataFrame' object is not callable"
     ]
    }
   ],
   "source": [
    "output=data(data[\"Locations\"]==\"5th Phase JP Nagar\" & data[\"bath\"]==3 &\n",
    "                data[\"BHK\"]==4 & data[\"Availability\"]==\"Ready To Move\" &\n",
    "                data[\"total_sqft\"]==2000)\n",
    "output"
   ]
  },
  {
   "cell_type": "code",
   "execution_count": null,
   "id": "a5005157",
   "metadata": {},
   "outputs": [],
   "source": []
  }
 ],
 "metadata": {
  "kernelspec": {
   "display_name": "Python 3 (ipykernel)",
   "language": "python",
   "name": "python3"
  },
  "language_info": {
   "codemirror_mode": {
    "name": "ipython",
    "version": 3
   },
   "file_extension": ".py",
   "mimetype": "text/x-python",
   "name": "python",
   "nbconvert_exporter": "python",
   "pygments_lexer": "ipython3",
   "version": "3.9.12"
  }
 },
 "nbformat": 4,
 "nbformat_minor": 5
}
